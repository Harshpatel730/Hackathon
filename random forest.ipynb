{
 "cells": [
  {
   "cell_type": "code",
   "execution_count": 30,
   "id": "c43c553f-a35d-4fee-99ea-114d24266ffe",
   "metadata": {},
   "outputs": [],
   "source": [
    "import pandas as pd\n",
    "import numpy as np\n",
    "import matplotlib.pyplot as plt\n",
    "import seaborn as sns\n",
    "from sklearn.model_selection import train_test_split\n",
    "from sklearn.tree import DecisionTreeClassifier\n",
    "from sklearn import tree\n",
    "from sklearn.ensemble import RandomForestClassifier\n",
    "from sklearn.metrics import confusion_matrix, classification_report, recall_score\n",
    "from sklearn import metrics\n",
    "from sklearn.model_selection import GridSearchCV,RandomizedSearchCV"
   ]
  },
  {
   "cell_type": "code",
   "execution_count": 15,
   "id": "8fb9e17f-372c-4788-aa94-d87ed545538d",
   "metadata": {},
   "outputs": [],
   "source": [
    "import pandas as pd"
   ]
  },
  {
   "cell_type": "code",
   "execution_count": 16,
   "id": "6b6ab134-1191-4956-adf7-6eab5c669c72",
   "metadata": {},
   "outputs": [],
   "source": [
    "# Import pre-processed data\n",
    "dftrain = pd.read_csv(\"train_final.csv\")\n",
    "dfvalid = pd.read_csv(\"validation_final.csv\")\n",
    "dftest = pd.read_csv(\"test_final.csv\")"
   ]
  },
  {
   "cell_type": "code",
   "execution_count": 19,
   "id": "15a9177c-e8bc-4299-8aa9-b25dc9656ec2",
   "metadata": {},
   "outputs": [
    {
     "data": {
      "text/plain": [
       "((75503, 23), (75503,), (18876, 23), (18876,))"
      ]
     },
     "execution_count": 19,
     "metadata": {},
     "output_type": "execute_result"
    }
   ],
   "source": [
    "# Split into training and testing x,y\n",
    "ytrain = dftrain['Overall_Experience']\n",
    "Xtrain = dftrain.drop(columns = \"Overall_Experience\")\n",
    "yvalid = dfvalid['Overall_Experience']\n",
    "Xvalid = dfvalid.drop(columns = \"Overall_Experience\")\n",
    "Xtrain.shape, ytrain.shape, Xvalid.shape, yvalid.shape"
   ]
  },
  {
   "cell_type": "code",
   "execution_count": 22,
   "id": "c47d7eac-52bc-4d1e-9a6d-354097aefa79",
   "metadata": {},
   "outputs": [],
   "source": [
    "trainfinal = pd.concat([dftrain, dfvalid], axis = 0)\n",
    "ytrain_final = trainfinal['Overall_Experience']\n",
    "Xtrain_final = trainfinal.drop(columns = \"Overall_Experience\")"
   ]
  },
  {
   "cell_type": "code",
   "execution_count": 24,
   "id": "0fb00874-8339-4923-9d61-a8f3136874b9",
   "metadata": {},
   "outputs": [],
   "source": [
    "from sklearn.ensemble import RandomForestRegressor,BaggingRegressor\n",
    "from sklearn.model_selection import GridSearchCV\n",
    "from sklearn.metrics import make_scorer,mean_squared_error, r2_score, mean_absolute_error"
   ]
  },
  {
   "cell_type": "code",
   "execution_count": 26,
   "id": "6788806a-ff23-4e56-aab3-911e0f5b49ab",
   "metadata": {},
   "outputs": [],
   "source": [
    "n_estimators = [int(x) for x in np.linspace(start = 200, stop = 2000, num = 10)]\n",
    "\n",
    "max_features = ['auto', 'sqrt']\n",
    "\n",
    "max_depth = [int(x) for x in np.linspace(10, 110, num = 11)]\n",
    "max_depth.append(None)\n",
    "\n",
    "min_samples_split = [2, 5, 10]\n",
    "\n",
    "min_samples_leaf = [1, 2, 4]\n",
    "\n",
    "bootstrap = [True, False]\n",
    "\n",
    "random_grid = {'n_estimators': n_estimators,\n",
    "               'max_features': max_features,\n",
    "               'max_depth': max_depth,\n",
    "               'min_samples_split': min_samples_split,\n",
    "               'min_samples_leaf': min_samples_leaf,\n",
    "               'bootstrap': bootstrap}"
   ]
  },
  {
   "cell_type": "code",
   "execution_count": null,
   "id": "2ec5dc67-bb14-4b90-bbc6-e6e23e48f3f9",
   "metadata": {},
   "outputs": [
    {
     "name": "stdout",
     "output_type": "stream",
     "text": [
      "Fitting 3 folds for each of 100 candidates, totalling 300 fits\n"
     ]
    }
   ],
   "source": [
    "rf = RandomForestRegressor()\n",
    "\n",
    "rf_random = RandomizedSearchCV(estimator = rf, param_distributions = random_grid, n_iter = 100, cv = 3, verbose=2, random_state=42, n_jobs = -1)\n",
    "# Fit the random search model\n",
    "rf_random.fit(Xtrain_final, ytrain_final)"
   ]
  },
  {
   "cell_type": "code",
   "execution_count": null,
   "id": "8aa592f0-13e6-4374-a33f-d60dc326e1d4",
   "metadata": {},
   "outputs": [],
   "source": [
    "rf_random.best_params_"
   ]
  },
  {
   "cell_type": "code",
   "execution_count": null,
   "id": "22728dce-55bc-480f-b574-314d2742ce5a",
   "metadata": {},
   "outputs": [],
   "source": [
    "prediction_tuned = rf_random.predict()"
   ]
  },
  {
   "cell_type": "code",
   "execution_count": null,
   "id": "7a6987fb-241c-48c8-a78f-ccd5fc399e99",
   "metadata": {},
   "outputs": [],
   "source": [
    "importances = rf.feature_importances_\n",
    "\n",
    "indices = np.argsort(importances)\n",
    "\n",
    "plt.figure(figsize = (10, 10))\n",
    "\n",
    "plt.title('Feature Importances')\n",
    "\n",
    "plt.barh(range(len(indices)), importances[indices], color = 'violet', align = 'center')\n",
    "\n",
    "plt.yticks(range(len(indices)), [features[i] for i in indices])\n",
    "\n",
    "plt.xlabel('Relative Importance')\n",
    "\n",
    "plt.show()"
   ]
  },
  {
   "cell_type": "code",
   "execution_count": null,
   "id": "614f3258-f0fe-4d6c-8c69-51e538838f00",
   "metadata": {},
   "outputs": [],
   "source": [
    "ID_data = pd.read_csv(\"Traveldata_test.csv\")\n",
    "submission_df = pd.DataFrame()\n",
    "submission_df['ID'] = ID_data['ID']\n",
    "submission_df['Overall_Experience'] = prediction_tuned\n",
    "submission_df['Overall_Experience'] = submission_df['Overall_Experience'].round(0).astype(int)\n",
    "submission_df.to_csv(\"submission_4.csv\", index=False)"
   ]
  },
  {
   "cell_type": "code",
   "execution_count": null,
   "id": "b7d27e7c-e011-4021-96e2-7f779f905fe9",
   "metadata": {},
   "outputs": [],
   "source": []
  },
  {
   "cell_type": "code",
   "execution_count": null,
   "id": "047660c3-ee96-4e6c-ab57-cddbe0ed15be",
   "metadata": {},
   "outputs": [],
   "source": []
  }
 ],
 "metadata": {
  "kernelspec": {
   "display_name": "Python 3 (ipykernel)",
   "language": "python",
   "name": "python3"
  },
  "language_info": {
   "codemirror_mode": {
    "name": "ipython",
    "version": 3
   },
   "file_extension": ".py",
   "mimetype": "text/x-python",
   "name": "python",
   "nbconvert_exporter": "python",
   "pygments_lexer": "ipython3",
   "version": "3.12.4"
  }
 },
 "nbformat": 4,
 "nbformat_minor": 5
}
